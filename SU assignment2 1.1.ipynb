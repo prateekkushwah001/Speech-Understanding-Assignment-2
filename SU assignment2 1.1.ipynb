{
  "metadata": {
    "kernelspec": {
      "language": "python",
      "display_name": "Python 3",
      "name": "python3"
    },
    "language_info": {
      "name": "python",
      "version": "3.10.12",
      "mimetype": "text/x-python",
      "codemirror_mode": {
        "name": "ipython",
        "version": 3
      },
      "pygments_lexer": "ipython3",
      "nbconvert_exporter": "python",
      "file_extension": ".py"
    },
    "kaggle": {
      "accelerator": "nvidiaTeslaT4",
      "dataSources": [
        {
          "sourceId": 11238332,
          "sourceType": "datasetVersion",
          "datasetId": 7021043
        },
        {
          "sourceId": 11239592,
          "sourceType": "datasetVersion",
          "datasetId": 7021990
        }
      ],
      "dockerImageVersionId": 30918,
      "isInternetEnabled": true,
      "language": "python",
      "sourceType": "notebook",
      "isGpuEnabled": true
    },
    "colab": {
      "provenance": []
    }
  },
  "nbformat_minor": 0,
  "nbformat": 4,
  "cells": [
    {
      "cell_type": "code",
      "source": [
        "%%writefile your_lora_module.py\n",
        "from dataclasses import dataclass\n",
        "\n",
        "@dataclass\n",
        "class LORAConfig:\n",
        "    r: int\n",
        "    alpha: float\n"
      ],
      "metadata": {
        "trusted": true,
        "execution": {
          "iopub.status.busy": "2025-04-01T22:54:15.549654Z",
          "iopub.execute_input": "2025-04-01T22:54:15.549943Z",
          "iopub.status.idle": "2025-04-01T22:54:15.555327Z",
          "shell.execute_reply.started": "2025-04-01T22:54:15.549921Z",
          "shell.execute_reply": "2025-04-01T22:54:15.554690Z"
        },
        "id": "eo_oIa5X8SeC",
        "outputId": "2772adce-3f83-49a9-f646-7473fbddc473"
      },
      "outputs": [
        {
          "name": "stdout",
          "text": "Overwriting your_lora_module.py\n",
          "output_type": "stream"
        }
      ],
      "execution_count": null
    },
    {
      "cell_type": "code",
      "source": [
        "import os\n",
        "import random\n",
        "import zipfile\n",
        "import numpy as np\n",
        "import torch\n",
        "import torchaudio\n",
        "import torchaudio.transforms as T\n",
        "import matplotlib.pyplot as plt\n",
        "from torch.utils.data import Dataset, DataLoader\n",
        "from scipy.spatial.distance import cosine\n",
        "from sklearn.metrics import roc_curve, auc\n",
        "from transformers import WavLMForXVector, AutoFeatureExtractor\n",
        "from your_lora_module import LORAConfig"
      ],
      "metadata": {
        "trusted": true,
        "execution": {
          "iopub.status.busy": "2025-04-01T22:54:21.602998Z",
          "iopub.execute_input": "2025-04-01T22:54:21.603285Z",
          "iopub.status.idle": "2025-04-01T22:54:21.608060Z",
          "shell.execute_reply.started": "2025-04-01T22:54:21.603264Z",
          "shell.execute_reply": "2025-04-01T22:54:21.607102Z"
        },
        "id": "UyF9bt_N8SeN"
      },
      "outputs": [],
      "execution_count": null
    },
    {
      "cell_type": "code",
      "source": [
        "vox1_dir = \"/kaggle/input/vox-1-test-wav/wav\"\n",
        "vox2_dir = \"/kaggle/input/vow-2-test/aac\"\n",
        "model_name = \"microsoft/wavlm-base-plus\"\n",
        "device = torch.device(\"cuda\" if torch.cuda.is_available() else \"cpu\")"
      ],
      "metadata": {
        "trusted": true,
        "execution": {
          "iopub.status.busy": "2025-04-01T22:54:10.667532Z",
          "iopub.execute_input": "2025-04-01T22:54:10.667887Z",
          "iopub.status.idle": "2025-04-01T22:54:10.672041Z",
          "shell.execute_reply.started": "2025-04-01T22:54:10.667861Z",
          "shell.execute_reply": "2025-04-01T22:54:10.671329Z"
        },
        "id": "mGJenWQV8SeP"
      },
      "outputs": [],
      "execution_count": null
    },
    {
      "cell_type": "code",
      "source": [
        "print(\"Loading pre-trained model and feature extractor...\")\n",
        "feature_extractor = AutoFeatureExtractor.from_pretrained(model_name)\n",
        "model = WavLMForXVector.from_pretrained(model_name, ignore_mismatched_sizes=True).to(device)\n",
        "model.eval()\n",
        "print(\"Pre-trained WavLM model loaded successfully!\")"
      ],
      "metadata": {
        "trusted": true,
        "execution": {
          "iopub.status.busy": "2025-04-01T22:54:28.132983Z",
          "iopub.execute_input": "2025-04-01T22:54:28.133272Z",
          "iopub.status.idle": "2025-04-01T22:54:30.283570Z",
          "shell.execute_reply.started": "2025-04-01T22:54:28.133249Z",
          "shell.execute_reply": "2025-04-01T22:54:30.282586Z"
        },
        "id": "w1BOqEuX8SeQ",
        "outputId": "2f1478f2-3691-47d2-ae6e-67860258edc3"
      },
      "outputs": [
        {
          "name": "stdout",
          "text": "Loading pre-trained model and feature extractor...\n",
          "output_type": "stream"
        },
        {
          "name": "stderr",
          "text": "Some weights of WavLMForXVector were not initialized from the model checkpoint at microsoft/wavlm-base-plus and are newly initialized: ['classifier.bias', 'classifier.weight', 'feature_extractor.bias', 'feature_extractor.weight', 'objective.weight', 'projector.bias', 'projector.weight', 'tdnn.0.kernel.bias', 'tdnn.0.kernel.weight', 'tdnn.1.kernel.bias', 'tdnn.1.kernel.weight', 'tdnn.2.kernel.bias', 'tdnn.2.kernel.weight', 'tdnn.3.kernel.bias', 'tdnn.3.kernel.weight', 'tdnn.4.kernel.bias', 'tdnn.4.kernel.weight']\nYou should probably TRAIN this model on a down-stream task to be able to use it for predictions and inference.\n",
          "output_type": "stream"
        },
        {
          "name": "stdout",
          "text": "Pre-trained WavLM model loaded successfully!\n",
          "output_type": "stream"
        }
      ],
      "execution_count": null
    },
    {
      "cell_type": "code",
      "source": [
        "def extract_speaker_embedding(audio_path, model_obj=model):\n",
        "    waveform, sample_rate = torchaudio.load(audio_path)\n",
        "    if waveform.shape[0] > 1:\n",
        "        waveform = torch.mean(waveform, dim=0, keepdim=True)\n",
        "    resampler = T.Resample(orig_freq=sample_rate, new_freq=16000)\n",
        "    waveform = resampler(waveform)\n",
        "    waveform = (waveform - waveform.mean()) / waveform.std()\n",
        "    inputs = feature_extractor(waveform.squeeze(0), sampling_rate=16000, return_tensors=\"pt\", padding=True)\n",
        "    inputs = {k: v.to(device) for k, v in inputs.items()}\n",
        "    with torch.no_grad():\n",
        "        embeddings = model_obj(**inputs).embeddings\n",
        "    return embeddings.cpu().numpy().flatten()\n"
      ],
      "metadata": {
        "trusted": true,
        "execution": {
          "iopub.status.busy": "2025-04-01T22:54:55.734538Z",
          "iopub.execute_input": "2025-04-01T22:54:55.734848Z",
          "iopub.status.idle": "2025-04-01T22:54:55.743449Z",
          "shell.execute_reply.started": "2025-04-01T22:54:55.734821Z",
          "shell.execute_reply": "2025-04-01T22:54:55.742777Z"
        },
        "id": "XAk9JYv78SeS"
      },
      "outputs": [],
      "execution_count": null
    },
    {
      "cell_type": "code",
      "source": [
        "print(\"Building trial pairs for evaluation...\")\n",
        "speaker_dict = {}\n",
        "speaker_ids = sorted(os.listdir(vox1_dir))\n",
        "for speaker in speaker_ids:\n",
        "    speaker_path = os.path.join(vox1_dir, speaker)\n",
        "    if os.path.isdir(speaker_path):\n",
        "        audio_files = []\n",
        "        for root, dirs, files in os.walk(speaker_path):\n",
        "            for file in files:\n",
        "                if file.endswith(\".wav\"):\n",
        "                    audio_files.append(os.path.join(root, file))\n",
        "        if audio_files:\n",
        "            speaker_dict[speaker] = audio_files\n",
        "print(f\"Found {len(speaker_dict)} speakers with audio files.\")"
      ],
      "metadata": {
        "trusted": true,
        "execution": {
          "iopub.status.busy": "2025-04-01T22:55:03.520594Z",
          "iopub.execute_input": "2025-04-01T22:55:03.520928Z",
          "iopub.status.idle": "2025-04-01T22:55:04.917693Z",
          "shell.execute_reply.started": "2025-04-01T22:55:03.520898Z",
          "shell.execute_reply": "2025-04-01T22:55:04.916962Z"
        },
        "id": "gvUQOb-88SeT",
        "outputId": "9e3e9da4-995d-478b-cb9d-0ca55d621514"
      },
      "outputs": [
        {
          "name": "stdout",
          "text": "Building trial pairs for evaluation...\nFound 40 speakers with audio files.\n",
          "output_type": "stream"
        }
      ],
      "execution_count": null
    },
    {
      "cell_type": "code",
      "source": [
        "trial_pairs = []\n",
        "for speaker, files in speaker_dict.items():\n",
        "    if len(files) >= 2:\n",
        "        file1, file2 = random.sample(files, 2)\n",
        "        trial_pairs.append((\"1\", file1, file2))\n",
        "speaker_keys = list(speaker_dict.keys())\n",
        "num_negatives = len(trial_pairs)\n",
        "while len(trial_pairs) < (2 * num_negatives):\n",
        "    spk1, spk2 = random.sample(speaker_keys, 2)\n",
        "    file1 = random.choice(speaker_dict[spk1])\n",
        "    file2 = random.choice(speaker_dict[spk2])\n",
        "    trial_pairs.append((\"0\", file1, file2))"
      ],
      "metadata": {
        "trusted": true,
        "execution": {
          "iopub.status.busy": "2025-04-01T22:56:22.989069Z",
          "iopub.execute_input": "2025-04-01T22:56:22.989393Z",
          "iopub.status.idle": "2025-04-01T22:56:22.994594Z",
          "shell.execute_reply.started": "2025-04-01T22:56:22.989363Z",
          "shell.execute_reply": "2025-04-01T22:56:22.993795Z"
        },
        "id": "2h623qHv8SeU"
      },
      "outputs": [],
      "execution_count": null
    },
    {
      "cell_type": "code",
      "source": [
        "scores = []\n",
        "labels = []\n",
        "for label, path1, path2 in trial_pairs:\n",
        "    emb1 = extract_speaker_embedding(path1)\n",
        "    emb2 = extract_speaker_embedding(path2)\n",
        "    sim = 1 - cosine(emb1, emb2)\n",
        "    scores.append(sim)\n",
        "    labels.append(1 if label == \"1\" else 0)\n",
        "\n",
        "fpr, tpr, thresholds = roc_curve(labels, scores)\n",
        "fnr = 1 - tpr\n",
        "eer_threshold = thresholds[np.nanargmin(np.abs(fnr - fpr))]\n",
        "eer = fpr[np.nanargmin(np.abs(fnr - fpr))] * 100  # in %\n",
        "far_threshold_idx = np.where(fpr <= 0.01)[0][-1]\n",
        "tar_at_1_fpr = tpr[far_threshold_idx] * 100\n",
        "accuracy = np.mean([(score > eer_threshold) == label for score, label in zip(scores, labels)]) * 100\n"
      ],
      "metadata": {
        "trusted": true,
        "execution": {
          "iopub.status.busy": "2025-04-01T22:56:25.040982Z",
          "iopub.execute_input": "2025-04-01T22:56:25.041294Z",
          "iopub.status.idle": "2025-04-01T22:56:39.560944Z",
          "shell.execute_reply.started": "2025-04-01T22:56:25.041269Z",
          "shell.execute_reply": "2025-04-01T22:56:39.560250Z"
        },
        "id": "8tGfKAXV8SeV",
        "outputId": "592a5169-a22f-4864-a77f-df868fe41c4d"
      },
      "outputs": [
        {
          "name": "stderr",
          "text": "/usr/local/lib/python3.10/dist-packages/torch/nn/functional.py:5849: UserWarning: Support for mismatched key_padding_mask and attn_mask is deprecated. Use same type for both instead.\n  warnings.warn(\n",
          "output_type": "stream"
        }
      ],
      "execution_count": null
    },
    {
      "cell_type": "code",
      "source": [
        "print(f\"Pre-trained Model Evaluation:\")\n",
        "print(f\"EER (Equal Error Rate): {eer:.2f}%\")\n",
        "print(f\"TAR@1%FAR: {tar_at_1_fpr:.2f}%\")\n",
        "print(f\"Speaker Identification Accuracy: {accuracy:.2f}%\")"
      ],
      "metadata": {
        "trusted": true,
        "execution": {
          "iopub.status.busy": "2025-04-01T22:56:42.755083Z",
          "iopub.execute_input": "2025-04-01T22:56:42.755425Z",
          "iopub.status.idle": "2025-04-01T22:56:42.760379Z",
          "shell.execute_reply.started": "2025-04-01T22:56:42.755377Z",
          "shell.execute_reply": "2025-04-01T22:56:42.759474Z"
        },
        "id": "6fjwIBjs8SeX",
        "outputId": "4d294fe3-7436-4f85-c07c-c985fc2279f9"
      },
      "outputs": [
        {
          "name": "stdout",
          "text": "Pre-trained Model Evaluation:\nEER (Equal Error Rate): 42.50%\nTAR@1%FAR: 2.50%\nSpeaker Identification Accuracy: 58.75%\n",
          "output_type": "stream"
        }
      ],
      "execution_count": null
    },
    {
      "cell_type": "code",
      "source": [
        "plt.figure(figsize=(8, 6))\n",
        "plt.plot(fpr, tpr, label=f\"AUC = {auc(fpr, tpr):.4f}\")\n",
        "plt.xlabel(\"False Positive Rate\")\n",
        "plt.ylabel(\"True Positive Rate\")\n",
        "plt.title(\"ROC Curve for Speaker Verification (Pre-trained)\")\n",
        "plt.legend()\n",
        "plt.grid(True)\n",
        "plt.show()"
      ],
      "metadata": {
        "trusted": true,
        "execution": {
          "iopub.status.busy": "2025-04-01T22:56:47.758463Z",
          "iopub.execute_input": "2025-04-01T22:56:47.758756Z",
          "iopub.status.idle": "2025-04-01T22:56:47.956403Z",
          "shell.execute_reply.started": "2025-04-01T22:56:47.758734Z",
          "shell.execute_reply": "2025-04-01T22:56:47.955485Z"
        },
        "id": "FKgdWcGa8SeY",
        "outputId": "55698eb5-2a43-4652-a3ba-b1a5c3ef9585"
      },
      "outputs": [
        {
          "output_type": "display_data",
          "data": {
            "text/plain": "<Figure size 800x600 with 1 Axes>",
            "image/png": "[encoded data removed]"
          },
          "metadata": {}
        }
      ],
      "execution_count": null
    },
    {
      "cell_type": "code",
      "source": [
        "all_ids_vox2 = sorted(os.listdir(vox2_dir))\n",
        "train_ids = all_ids_vox2[:100]\n",
        "test_ids = all_ids_vox2[100:]\n",
        "print(f\"VoxCeleb2: Using {len(train_ids)} speakers for training and {len(test_ids)} for testing.\")"
      ],
      "metadata": {
        "trusted": true,
        "execution": {
          "iopub.status.busy": "2025-04-01T22:57:04.519014Z",
          "iopub.execute_input": "2025-04-01T22:57:04.519297Z",
          "iopub.status.idle": "2025-04-01T22:57:04.526222Z",
          "shell.execute_reply.started": "2025-04-01T22:57:04.519274Z",
          "shell.execute_reply": "2025-04-01T22:57:04.525359Z"
        },
        "id": "Kz9A7mGM8Sea",
        "outputId": "cb39098c-831c-4d96-e485-732d0802237a"
      },
      "outputs": [
        {
          "name": "stdout",
          "text": "VoxCeleb2: Using 100 speakers for training and 18 for testing.\n",
          "output_type": "stream"
        }
      ],
      "execution_count": null
    },
    {
      "cell_type": "code",
      "source": [
        "class VoxCeleb2Dataset(Dataset):\n",
        "    def __init__(self, root_dir, speaker_list):\n",
        "        self.samples = []\n",
        "        self.speaker_list = speaker_list\n",
        "        for speaker in speaker_list:\n",
        "            speaker_path = os.path.join(root_dir, speaker)\n",
        "            if os.path.isdir(speaker_path):\n",
        "                for root, _, files in os.walk(speaker_path):\n",
        "                    for file in files:\n",
        "                        if file.endswith(\".m4a\") or file.endswith(\".wav\"):\n",
        "                            self.samples.append((speaker, os.path.join(root, file)))\n",
        "        self.speaker2label = {spk: idx for idx, spk in enumerate(sorted(speaker_list))}\n",
        "\n",
        "    def __len__(self):\n",
        "        return len(self.samples)\n",
        "\n",
        "    def __getitem__(self, idx):\n",
        "        speaker, audio_path = self.samples[idx]\n",
        "        label = self.speaker2label[speaker]\n",
        "        waveform, sr = torchaudio.load(audio_path)\n",
        "        max_samples = 160000\n",
        "        if waveform.shape[1] > max_samples:\n",
        "            waveform = waveform[:, :max_samples]\n",
        "        if waveform.shape[0] > 1:\n",
        "            waveform = torch.mean(waveform, dim=0, keepdim=True)\n",
        "        resampler = T.Resample(orig_freq=sr, new_freq=16000)\n",
        "        waveform = resampler(waveform)\n",
        "        waveform = (waveform - waveform.mean()) / waveform.std()\n",
        "        inputs = feature_extractor(waveform.squeeze(0), sampling_rate=16000, return_tensors=\"pt\", padding=True)\n",
        "        inputs = {k: v.squeeze(0) for k, v in inputs.items()}\n",
        "        return inputs, label"
      ],
      "metadata": {
        "trusted": true,
        "execution": {
          "iopub.status.busy": "2025-04-01T22:57:14.827369Z",
          "iopub.execute_input": "2025-04-01T22:57:14.827706Z",
          "iopub.status.idle": "2025-04-01T22:57:14.835243Z",
          "shell.execute_reply.started": "2025-04-01T22:57:14.827681Z",
          "shell.execute_reply": "2025-04-01T22:57:14.834389Z"
        },
        "id": "O1BFi0l28Sea"
      },
      "outputs": [],
      "execution_count": null
    },
    {
      "cell_type": "code",
      "source": [
        "def collate_fn(batch):\n",
        "    input_list = [item[0][\"input_values\"] for item in batch]\n",
        "    labels = torch.tensor([item[1] for item in batch])\n",
        "    padded_inputs = torch.nn.utils.rnn.pad_sequence(input_list, batch_first=True)\n",
        "    return {\"input_values\": padded_inputs, \"sampling_rate\": 16000}, labels"
      ],
      "metadata": {
        "trusted": true,
        "execution": {
          "iopub.status.busy": "2025-04-01T22:57:19.119435Z",
          "iopub.execute_input": "2025-04-01T22:57:19.119746Z",
          "iopub.status.idle": "2025-04-01T22:57:19.124369Z",
          "shell.execute_reply.started": "2025-04-01T22:57:19.119722Z",
          "shell.execute_reply": "2025-04-01T22:57:19.123351Z"
        },
        "id": "VdyxC4Ec8Seb"
      },
      "outputs": [],
      "execution_count": null
    },
    {
      "cell_type": "code",
      "source": [
        "train_dataset = VoxCeleb2Dataset(root_dir=vox2_dir, speaker_list=train_ids)\n",
        "train_loader = DataLoader(train_dataset, batch_size=8, shuffle=True, collate_fn=collate_fn)\n",
        "print(f\"VoxCeleb2 training dataset has {len(train_dataset)} samples.\")"
      ],
      "metadata": {
        "trusted": true,
        "execution": {
          "iopub.status.busy": "2025-04-01T22:57:21.755191Z",
          "iopub.execute_input": "2025-04-01T22:57:21.755538Z",
          "iopub.status.idle": "2025-04-01T22:57:30.675719Z",
          "shell.execute_reply.started": "2025-04-01T22:57:21.755509Z",
          "shell.execute_reply": "2025-04-01T22:57:30.674925Z"
        },
        "id": "p-L_e_4t8Sec",
        "outputId": "7fc533ac-57a1-4cf4-a7f8-9ab5445e5419"
      },
      "outputs": [
        {
          "name": "stdout",
          "text": "VoxCeleb2 training dataset has 29831 samples.\n",
          "output_type": "stream"
        }
      ],
      "execution_count": null
    },
    {
      "cell_type": "code",
      "source": [
        "class LoRALinear(torch.nn.Module):\n",
        "    def __init__(self, linear_module, lora_config: LORAConfig):\n",
        "        super().__init__()\n",
        "        self.linear = linear_module\n",
        "        self.r = lora_config.r\n",
        "        self.alpha = lora_config.alpha\n",
        "        self.A = torch.nn.Parameter(torch.empty(self.r, linear_module.in_features, device=device, dtype=torch.float16))\n",
        "        self.B = torch.nn.Parameter(torch.zeros(linear_module.out_features, self.r, device=device, dtype=torch.float16))\n",
        "        torch.nn.init.normal_(self.A, mean=0, std=0.01)\n",
        "\n",
        "    def forward(self, x):\n",
        "        x = x.to(torch.float32)\n",
        "        delta_w = self.alpha * (self.B @ self.A)\n",
        "        delta_w = delta_w.to(torch.float32)\n",
        "        return self.linear(x) + torch.nn.functional.linear(x, delta_w.t())\n"
      ],
      "metadata": {
        "trusted": true,
        "execution": {
          "iopub.status.busy": "2025-04-01T22:57:50.054961Z",
          "iopub.execute_input": "2025-04-01T22:57:50.055278Z",
          "iopub.status.idle": "2025-04-01T22:57:50.061053Z",
          "shell.execute_reply.started": "2025-04-01T22:57:50.055251Z",
          "shell.execute_reply": "2025-04-01T22:57:50.060121Z"
        },
        "id": "aRlHAAei8Sec"
      },
      "outputs": [],
      "execution_count": null
    },
    {
      "cell_type": "code",
      "source": [
        "feature_extractor = AutoFeatureExtractor.from_pretrained(model_name)\n",
        "model_ft = WavLMForXVector.from_pretrained(\n",
        "    model_name,\n",
        "    ignore_mismatched_sizes=True\n",
        ")\n",
        "model_ft = model_ft.to(device)\n"
      ],
      "metadata": {
        "trusted": true,
        "execution": {
          "iopub.status.busy": "2025-04-01T22:58:02.359372Z",
          "iopub.execute_input": "2025-04-01T22:58:02.359675Z",
          "iopub.status.idle": "2025-04-01T22:58:04.076927Z",
          "shell.execute_reply.started": "2025-04-01T22:58:02.359654Z",
          "shell.execute_reply": "2025-04-01T22:58:04.075505Z"
        },
        "id": "X3ddE57m8Sed",
        "outputId": "71e61873-f9bc-49fa-f36a-e0d855ec0dbc"
      },
      "outputs": [
        {
          "name": "stderr",
          "text": "Some weights of WavLMForXVector were not initialized from the model checkpoint at microsoft/wavlm-base-plus and are newly initialized: ['classifier.bias', 'classifier.weight', 'feature_extractor.bias', 'feature_extractor.weight', 'objective.weight', 'projector.bias', 'projector.weight', 'tdnn.0.kernel.bias', 'tdnn.0.kernel.weight', 'tdnn.1.kernel.bias', 'tdnn.1.kernel.weight', 'tdnn.2.kernel.bias', 'tdnn.2.kernel.weight', 'tdnn.3.kernel.bias', 'tdnn.3.kernel.weight', 'tdnn.4.kernel.bias', 'tdnn.4.kernel.weight']\nYou should probably TRAIN this model on a down-stream task to be able to use it for predictions and inference.\n",
          "output_type": "stream"
        }
      ],
      "execution_count": null
    },
    {
      "cell_type": "code",
      "source": [
        "lora_config = LORAConfig(r=4, alpha=0.1)\n",
        "new_classifier = LoRALinear(model_ft.classifier, lora_config).to(device)\n",
        "model_ft.classifier = new_classifier\n",
        "\n",
        "for param in model_ft.parameters():\n",
        "    param.requires_grad = False\n",
        "for layer in model_ft.wavlm.encoder.layers[-3:]:\n",
        "    for param in layer.parameters():\n",
        "        param.requires_grad = True\n",
        "for param in model_ft.classifier.parameters():\n",
        "    param.requires_grad = True\n",
        "\n",
        "model_ft.train()"
      ],
      "metadata": {
        "trusted": true,
        "execution": {
          "iopub.status.busy": "2025-04-01T22:58:17.532152Z",
          "iopub.execute_input": "2025-04-01T22:58:17.532510Z",
          "iopub.status.idle": "2025-04-01T22:58:17.544120Z",
          "shell.execute_reply.started": "2025-04-01T22:58:17.532474Z",
          "shell.execute_reply": "2025-04-01T22:58:17.543307Z"
        },
        "id": "UazJT85D8Sed",
        "outputId": "183c7c44-78e3-4f6b-f74a-8fe9236ea79e"
      },
      "outputs": [
        {
          "execution_count": 75,
          "output_type": "execute_result",
          "data": {
            "text/plain": "WavLMForXVector(\n  (wavlm): WavLMModel(\n    (feature_extractor): WavLMFeatureEncoder(\n      (conv_layers): ModuleList(\n        (0): WavLMGroupNormConvLayer(\n          (conv): Conv1d(1, 512, kernel_size=(10,), stride=(5,), bias=False)\n          (activation): GELUActivation()\n          (layer_norm): GroupNorm(512, 512, eps=1e-05, affine=True)\n        )\n        (1-4): 4 x WavLMNoLayerNormConvLayer(\n          (conv): Conv1d(512, 512, kernel_size=(3,), stride=(2,), bias=False)\n          (activation): GELUActivation()\n        )\n        (5-6): 2 x WavLMNoLayerNormConvLayer(\n          (conv): Conv1d(512, 512, kernel_size=(2,), stride=(2,), bias=False)\n          (activation): GELUActivation()\n        )\n      )\n    )\n    (feature_projection): WavLMFeatureProjection(\n      (layer_norm): LayerNorm((512,), eps=1e-05, elementwise_affine=True)\n      (projection): Linear(in_features=512, out_features=768, bias=True)\n      (dropout): Dropout(p=0.1, inplace=False)\n    )\n    (encoder): WavLMEncoder(\n      (pos_conv_embed): WavLMPositionalConvEmbedding(\n        (conv): ParametrizedConv1d(\n          768, 768, kernel_size=(128,), stride=(1,), padding=(64,), groups=16\n          (parametrizations): ModuleDict(\n            (weight): ParametrizationList(\n              (0): _WeightNorm()\n            )\n          )\n        )\n        (padding): WavLMSamePadLayer()\n        (activation): GELUActivation()\n      )\n      (layer_norm): LayerNorm((768,), eps=1e-05, elementwise_affine=True)\n      (dropout): Dropout(p=0.1, inplace=False)\n      (layers): ModuleList(\n        (0): WavLMEncoderLayer(\n          (attention): WavLMAttention(\n            (k_proj): Linear(in_features=768, out_features=768, bias=True)\n            (v_proj): Linear(in_features=768, out_features=768, bias=True)\n            (q_proj): Linear(in_features=768, out_features=768, bias=True)\n            (out_proj): Linear(in_features=768, out_features=768, bias=True)\n            (gru_rel_pos_linear): Linear(in_features=64, out_features=8, bias=True)\n            (rel_attn_embed): Embedding(320, 12)\n          )\n          (dropout): Dropout(p=0.1, inplace=False)\n          (layer_norm): LayerNorm((768,), eps=1e-05, elementwise_affine=True)\n          (feed_forward): WavLMFeedForward(\n            (intermediate_dropout): Dropout(p=0.0, inplace=False)\n            (intermediate_dense): Linear(in_features=768, out_features=3072, bias=True)\n            (intermediate_act_fn): GELUActivation()\n            (output_dense): Linear(in_features=3072, out_features=768, bias=True)\n            (output_dropout): Dropout(p=0.1, inplace=False)\n          )\n          (final_layer_norm): LayerNorm((768,), eps=1e-05, elementwise_affine=True)\n        )\n        (1-11): 11 x WavLMEncoderLayer(\n          (attention): WavLMAttention(\n            (k_proj): Linear(in_features=768, out_features=768, bias=True)\n            (v_proj): Linear(in_features=768, out_features=768, bias=True)\n            (q_proj): Linear(in_features=768, out_features=768, bias=True)\n            (out_proj): Linear(in_features=768, out_features=768, bias=True)\n            (gru_rel_pos_linear): Linear(in_features=64, out_features=8, bias=True)\n          )\n          (dropout): Dropout(p=0.1, inplace=False)\n          (layer_norm): LayerNorm((768,), eps=1e-05, elementwise_affine=True)\n          (feed_forward): WavLMFeedForward(\n            (intermediate_dropout): Dropout(p=0.0, inplace=False)\n            (intermediate_dense): Linear(in_features=768, out_features=3072, bias=True)\n            (intermediate_act_fn): GELUActivation()\n            (output_dense): Linear(in_features=3072, out_features=768, bias=True)\n            (output_dropout): Dropout(p=0.1, inplace=False)\n          )\n          (final_layer_norm): LayerNorm((768,), eps=1e-05, elementwise_affine=True)\n        )\n      )\n    )\n  )\n  (projector): Linear(in_features=768, out_features=512, bias=True)\n  (tdnn): ModuleList(\n    (0): TDNNLayer(\n      (kernel): Linear(in_features=2560, out_features=512, bias=True)\n      (activation): ReLU()\n    )\n    (1-2): 2 x TDNNLayer(\n      (kernel): Linear(in_features=1536, out_features=512, bias=True)\n      (activation): ReLU()\n    )\n    (3): TDNNLayer(\n      (kernel): Linear(in_features=512, out_features=512, bias=True)\n      (activation): ReLU()\n    )\n    (4): TDNNLayer(\n      (kernel): Linear(in_features=512, out_features=1500, bias=True)\n      (activation): ReLU()\n    )\n  )\n  (feature_extractor): Linear(in_features=3000, out_features=512, bias=True)\n  (classifier): LoRALinear(\n    (linear): Linear(in_features=512, out_features=512, bias=True)\n  )\n  (objective): AMSoftmaxLoss(\n    (loss): CrossEntropyLoss()\n  )\n)"
          },
          "metadata": {}
        }
      ],
      "execution_count": null
    },
    {
      "cell_type": "code",
      "source": [
        "class ArcFaceLoss(torch.nn.Module):\n",
        "    def __init__(self, in_features, num_classes, s=30.0, m=0.50):\n",
        "        super().__init__()\n",
        "        self.s = s\n",
        "        self.m = m\n",
        "        self.weight = torch.nn.Parameter(torch.FloatTensor(num_classes, in_features))\n",
        "        torch.nn.init.xavier_uniform_(self.weight)\n",
        "\n",
        "    def forward(self, embeddings, labels):\n",
        "        device = embeddings.device\n",
        "        embeddings = torch.nn.functional.normalize(embeddings, p=2, dim=1)\n",
        "        weight_norm = torch.nn.functional.normalize(self.weight.to(device), p=2, dim=1)\n",
        "        cosine_sim = torch.matmul(embeddings, weight_norm.t())\n",
        "        one_hot = torch.zeros(labels.size(0), self.weight.size(0), device=device)\n",
        "        one_hot.scatter_(1, labels.unsqueeze(1), 1)\n",
        "        phi = cosine_sim - self.m\n",
        "        output = (one_hot * phi) + ((1.0 - one_hot) * cosine_sim)\n",
        "        output *= self.s\n",
        "        return torch.nn.functional.cross_entropy(output, labels)"
      ],
      "metadata": {
        "trusted": true,
        "execution": {
          "iopub.status.busy": "2025-04-01T22:58:30.118676Z",
          "iopub.execute_input": "2025-04-01T22:58:30.118988Z",
          "iopub.status.idle": "2025-04-01T22:58:30.125465Z",
          "shell.execute_reply.started": "2025-04-01T22:58:30.118965Z",
          "shell.execute_reply": "2025-04-01T22:58:30.124515Z"
        },
        "id": "G6jomp908See"
      },
      "outputs": [],
      "execution_count": null
    },
    {
      "cell_type": "code",
      "source": [
        "num_classes = len(train_ids)\n",
        "print(f\"Number of training speakers: {num_classes}\")\n",
        "arcface_loss_fn = ArcFaceLoss(in_features=model_ft.classifier.linear.out_features, num_classes=num_classes).to(device)"
      ],
      "metadata": {
        "trusted": true,
        "execution": {
          "iopub.status.busy": "2025-04-01T22:58:35.932530Z",
          "iopub.execute_input": "2025-04-01T22:58:35.932968Z",
          "iopub.status.idle": "2025-04-01T22:58:35.942503Z",
          "shell.execute_reply.started": "2025-04-01T22:58:35.932933Z",
          "shell.execute_reply": "2025-04-01T22:58:35.941066Z"
        },
        "id": "DbL-NfqR8See",
        "outputId": "744a37ef-0a2e-4773-8d07-7b8c6fc5ad4b"
      },
      "outputs": [
        {
          "name": "stdout",
          "text": "Number of training speakers: 100\n",
          "output_type": "stream"
        }
      ],
      "execution_count": null
    },
    {
      "cell_type": "code",
      "source": [
        "optimizer = torch.optim.Adam([\n",
        "    {\"params\": model_ft.classifier.parameters()},\n",
        "    {\"params\": arcface_loss_fn.parameters()},\n",
        "    {\"params\": [p for layer in model_ft.wavlm.encoder.layers[-3:] for p in layer.parameters() if p.requires_grad]}\n",
        "], lr=1e-4)\n",
        "scaler = torch.amp.GradScaler()"
      ],
      "metadata": {
        "trusted": true,
        "execution": {
          "iopub.status.busy": "2025-04-01T22:58:41.643956Z",
          "iopub.execute_input": "2025-04-01T22:58:41.644244Z",
          "iopub.status.idle": "2025-04-01T22:58:41.651254Z",
          "shell.execute_reply.started": "2025-04-01T22:58:41.644220Z",
          "shell.execute_reply": "2025-04-01T22:58:41.650496Z"
        },
        "id": "7LYcNu9L8See"
      },
      "outputs": [],
      "execution_count": null
    },
    {
      "cell_type": "code",
      "source": [
        "num_epochs = 1\n",
        "for epoch in range(num_epochs):\n",
        "    model_ft.train()\n",
        "    running_loss = 0.0\n",
        "    for batch_inputs, labels in train_loader:\n",
        "        input_values = batch_inputs[\"input_values\"].to(device)\n",
        "        labels = labels.to(device)\n",
        "        optimizer.zero_grad()\n",
        "        with torch.amp.autocast(device_type='cuda', dtype=torch.float16):\n",
        "            outputs = model_ft(input_values=input_values).embeddings\n",
        "            loss = arcface_loss_fn(outputs, labels)\n",
        "        scaler.scale(loss).backward()\n",
        "        scaler.step(optimizer)\n",
        "        scaler.update()\n",
        "        running_loss += loss.item() * labels.size(0)\n",
        "        torch.cuda.empty_cache()\n",
        "    epoch_loss = running_loss / len(train_dataset)\n",
        "    print(f\"Epoch {epoch+1}/{num_epochs}, Loss: {epoch_loss:.4f}\")\n"
      ],
      "metadata": {
        "trusted": true,
        "execution": {
          "iopub.status.busy": "2025-04-01T21:24:52.858960Z",
          "iopub.execute_input": "2025-04-01T21:24:52.859272Z",
          "iopub.status.idle": "2025-04-01T22:02:10.818956Z",
          "shell.execute_reply.started": "2025-04-01T21:24:52.859245Z",
          "shell.execute_reply": "2025-04-01T22:02:10.817841Z"
        },
        "id": "zF8gryIh8Sef",
        "outputId": "9f53f7b7-8f56-4c84-d62f-2724b6a9aa3b"
      },
      "outputs": [
        {
          "name": "stdout",
          "text": "Epoch 1/1, Loss: 18.5066\n",
          "output_type": "stream"
        }
      ],
      "execution_count": null
    },
    {
      "cell_type": "code",
      "source": [
        "save_path = \"/kaggle/working/fine_tuned_wavlm.pth\"\n",
        "torch.save(model_ft.state_dict(), save_path)\n",
        "print(f\"Fine-tuned model saved at: {save_path}\")"
      ],
      "metadata": {
        "trusted": true,
        "execution": {
          "iopub.status.busy": "2025-04-01T22:02:49.238825Z",
          "iopub.execute_input": "2025-04-01T22:02:49.239154Z",
          "iopub.status.idle": "2025-04-01T22:02:50.137963Z",
          "shell.execute_reply.started": "2025-04-01T22:02:49.239128Z",
          "shell.execute_reply": "2025-04-01T22:02:50.136770Z"
        },
        "id": "AFAXYK518Sef",
        "outputId": "27ecd765-af7c-4363-cea0-5d0caf81bdaf"
      },
      "outputs": [
        {
          "name": "stdout",
          "text": "Fine-tuned model saved at: /kaggle/working/fine_tuned_wavlm.pth\n",
          "output_type": "stream"
        }
      ],
      "execution_count": null
    },
    {
      "cell_type": "code",
      "source": [
        "def evaluate_model(model_obj):\n",
        "    scores = []\n",
        "    labels_list = []\n",
        "    for label, path1, path2 in trial_pairs:\n",
        "        emb1 = extract_speaker_embedding(path1, model_obj)\n",
        "        emb2 = extract_speaker_embedding(path2, model_obj)\n",
        "        sim = 1 - cosine(emb1, emb2)\n",
        "        scores.append(sim)\n",
        "        labels_list.append(1 if label == \"1\" else 0)\n",
        "    fpr, tpr, thresholds = roc_curve(labels_list, scores)\n",
        "    fnr = 1 - tpr\n",
        "    eer_threshold = thresholds[np.nanargmin(np.abs(fnr - fpr))]\n",
        "    eer = fpr[np.nanargmin(np.abs(fnr - fpr))] * 100\n",
        "    far_threshold_idx = np.where(fpr <= 0.01)[0][-1]\n",
        "    tar_at_1_fpr = tpr[far_threshold_idx] * 100\n",
        "    accuracy = np.mean([(score > eer_threshold) == label for score, label in zip(scores, labels_list)]) * 100\n",
        "    return eer, tar_at_1_fpr, accuracy, fpr, tpr"
      ],
      "metadata": {
        "trusted": true,
        "execution": {
          "iopub.status.busy": "2025-04-01T23:02:14.477266Z",
          "iopub.execute_input": "2025-04-01T23:02:14.477604Z",
          "iopub.status.idle": "2025-04-01T23:02:14.483533Z",
          "shell.execute_reply.started": "2025-04-01T23:02:14.477577Z",
          "shell.execute_reply": "2025-04-01T23:02:14.482601Z"
        },
        "id": "Mj1HyFDQ8Sef"
      },
      "outputs": [],
      "execution_count": null
    },
    {
      "cell_type": "code",
      "source": [
        "print(\"\\n--- Evaluation on VoxCeleb1 Trial Pairs ---\")\n",
        "print(\"Using Pre-trained Model:\")\n",
        "pretrained_eer, pretrained_tar, pretrained_acc, pre_fpr, pre_tpr = evaluate_model(model)\n",
        "print(f\"EER: {pretrained_eer:.2f}%, TAR@1%FAR: {pretrained_tar:.2f}%, Accuracy: {pretrained_acc:.2f}%\")\n",
        "\n",
        "print(\"\\nUsing Fine-Tuned Model:\")\n",
        "ft_eer, ft_tar, ft_acc, ft_fpr, ft_tpr = evaluate_model(model_ft)\n",
        "print(f\"EER: {ft_eer:.2f}%, TAR@1%FAR: {ft_tar:.2f}%, Accuracy: {ft_acc:.2f}%\")"
      ],
      "metadata": {
        "trusted": true,
        "execution": {
          "iopub.status.busy": "2025-04-01T23:06:01.130477Z",
          "iopub.execute_input": "2025-04-01T23:06:01.130814Z",
          "iopub.status.idle": "2025-04-01T23:06:27.499241Z",
          "shell.execute_reply.started": "2025-04-01T23:06:01.130790Z",
          "shell.execute_reply": "2025-04-01T23:06:27.498330Z"
        },
        "id": "Hk0Mlcew8Seg",
        "outputId": "bbb31778-835d-46c7-8077-fadd12540b21"
      },
      "outputs": [
        {
          "name": "stdout",
          "text": "\n--- Evaluation on VoxCeleb1 Trial Pairs ---\nUsing Pre-trained Model:\n",
          "output_type": "stream"
        },
        {
          "name": "stderr",
          "text": "/usr/local/lib/python3.10/dist-packages/torch/nn/functional.py:5849: UserWarning: Support for mismatched key_padding_mask and attn_mask is deprecated. Use same type for both instead.\n  warnings.warn(\n",
          "output_type": "stream"
        },
        {
          "name": "stdout",
          "text": "EER: 42.50%, TAR@1%FAR: 2.50%, Accuracy: 58.75%\n\nUsing Fine-Tuned Model:\n",
          "output_type": "stream"
        },
        {
          "name": "stderr",
          "text": "/usr/local/lib/python3.10/dist-packages/torch/nn/functional.py:5849: UserWarning: Support for mismatched key_padding_mask and attn_mask is deprecated. Use same type for both instead.\n  warnings.warn(\n",
          "output_type": "stream"
        },
        {
          "name": "stdout",
          "text": "EER: 40.00%, TAR@1%FAR: 2.50%, Accuracy: 61.25%\n",
          "output_type": "stream"
        }
      ],
      "execution_count": null
    },
    {
      "cell_type": "code",
      "source": [
        "plt.figure(figsize=(8, 6))\n",
        "plt.plot(pre_fpr, pre_tpr, label=f\"Pre-trained AUC = {auc(pre_fpr, pre_tpr):.4f}\")\n",
        "plt.plot(ft_fpr, ft_tpr, label=f\"Fine-Tuned AUC = {auc(ft_fpr, ft_tpr):.4f}\")\n",
        "plt.xlabel(\"False Positive Rate\")\n",
        "plt.ylabel(\"True Positive Rate\")\n",
        "plt.title(\"ROC Curve Comparison on VoxCeleb1 Trial Pairs\")\n",
        "plt.legend()\n",
        "plt.grid(True)\n",
        "plt.show()"
      ],
      "metadata": {
        "trusted": true,
        "execution": {
          "iopub.status.busy": "2025-04-01T23:07:29.229686Z",
          "iopub.execute_input": "2025-04-01T23:07:29.230032Z",
          "iopub.status.idle": "2025-04-01T23:07:29.435558Z",
          "shell.execute_reply.started": "2025-04-01T23:07:29.230004Z",
          "shell.execute_reply": "2025-04-01T23:07:29.434581Z"
        },
        "id": "pqORzwpI8Seg",
        "outputId": "ba638990-ce99-4b77-e068-06f1d71de613"
      },
      "outputs": [
        {
          "output_type": "display_data",
          "data": {
            "text/plain": "<Figure size 800x600 with 1 Axes>",
            "image/png": "[encoded data removed]"
          },
          "metadata": {}
        }
      ],
      "execution_count": null
    }
  ]
}